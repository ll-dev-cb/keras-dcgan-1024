{
 "cells": [
  {
   "cell_type": "markdown",
   "metadata": {},
   "source": [
    "predict creates images from a saved generator\n"
   ]
  },
  {
   "cell_type": "code",
   "execution_count": 1,
   "metadata": {},
   "outputs": [],
   "source": [
    "\n",
    "import numpy as np\n",
    "from numpy import save\n",
    "import pandas as pd \n",
    "\n",
    "# Input data files are available in the \"../input/\" directory.\n",
    "#import os\n",
    "#print(os.listdir(\"inputs\"))"
   ]
  },
  {
   "cell_type": "code",
   "execution_count": 2,
   "metadata": {},
   "outputs": [
    {
     "name": "stderr",
     "output_type": "stream",
     "text": [
      "/home/carsten/anaconda3/lib/python3.7/site-packages/tensorflow/python/framework/dtypes.py:526: FutureWarning: Passing (type, 1) or '1type' as a synonym of type is deprecated; in a future version of numpy, it will be understood as (type, (1,)) / '(1,)type'.\n",
      "  _np_qint8 = np.dtype([(\"qint8\", np.int8, 1)])\n",
      "/home/carsten/anaconda3/lib/python3.7/site-packages/tensorflow/python/framework/dtypes.py:527: FutureWarning: Passing (type, 1) or '1type' as a synonym of type is deprecated; in a future version of numpy, it will be understood as (type, (1,)) / '(1,)type'.\n",
      "  _np_quint8 = np.dtype([(\"quint8\", np.uint8, 1)])\n",
      "/home/carsten/anaconda3/lib/python3.7/site-packages/tensorflow/python/framework/dtypes.py:528: FutureWarning: Passing (type, 1) or '1type' as a synonym of type is deprecated; in a future version of numpy, it will be understood as (type, (1,)) / '(1,)type'.\n",
      "  _np_qint16 = np.dtype([(\"qint16\", np.int16, 1)])\n",
      "/home/carsten/anaconda3/lib/python3.7/site-packages/tensorflow/python/framework/dtypes.py:529: FutureWarning: Passing (type, 1) or '1type' as a synonym of type is deprecated; in a future version of numpy, it will be understood as (type, (1,)) / '(1,)type'.\n",
      "  _np_quint16 = np.dtype([(\"quint16\", np.uint16, 1)])\n",
      "/home/carsten/anaconda3/lib/python3.7/site-packages/tensorflow/python/framework/dtypes.py:530: FutureWarning: Passing (type, 1) or '1type' as a synonym of type is deprecated; in a future version of numpy, it will be understood as (type, (1,)) / '(1,)type'.\n",
      "  _np_qint32 = np.dtype([(\"qint32\", np.int32, 1)])\n",
      "/home/carsten/anaconda3/lib/python3.7/site-packages/tensorflow/python/framework/dtypes.py:535: FutureWarning: Passing (type, 1) or '1type' as a synonym of type is deprecated; in a future version of numpy, it will be understood as (type, (1,)) / '(1,)type'.\n",
      "  np_resource = np.dtype([(\"resource\", np.ubyte, 1)])\n"
     ]
    }
   ],
   "source": [
    "import os\n",
    "import time\n",
    "import tensorflow as tf\n",
    "#import glob\n",
    "#from glob import glob\n",
    "import datetime\n",
    "import random\n",
    "from PIL import Image\n",
    "#import matplotlib\n",
    "#matplotlib.use('agg')\n",
    "#import matplotlib.pyplot as plt\n",
    "\n",
    "#import seaborn as sns\n",
    "#%matplotlib inline\n",
    "\n",
    "# to choose which GPU should be used\n",
    "#import os\n",
    "os.environ[\"CUDA_DEVICE_ORDER\"]=\"PCI_BUS_ID\"   # see issue #152\n",
    "os.environ[\"CUDA_VISIBLE_DEVICES\"]=\"\"\n",
    "#os.environ[\"HIP_VISIBLE_DEVICES\"]=\"1\"\n",
    "\n",
    "\n",
    "# this section will allow code to be run on a RTX GPU\n",
    "from tensorflow.compat.v1 import ConfigProto\n",
    "from tensorflow.compat.v1 import InteractiveSession\n",
    "config = ConfigProto()\n",
    "config.gpu_options.allow_growth = True\n",
    "session = InteractiveSession(config=config)\n"
   ]
  },
  {
   "cell_type": "code",
   "execution_count": 3,
   "metadata": {},
   "outputs": [
    {
     "name": "stderr",
     "output_type": "stream",
     "text": [
      "Using TensorFlow backend.\n"
     ]
    }
   ],
   "source": [
    "import keras\n",
    "#from keras.layers import Input, Dense, Reshape, Flatten, Dropout, GaussianNoise\n",
    "#from keras.layers import BatchNormalization, Activation, ZeroPadding2D\n",
    "#from keras.layers.advanced_activations import LeakyReLU\n",
    "#from keras.layers.convolutional import UpSampling2D, Conv2D , Conv2DTranspose\n",
    "from keras.models import Sequential, Model, load_model\n",
    "from keras.optimizers import Adam\n",
    "\n",
    "#for multiple GPUs only\n",
    "from keras.utils import multi_gpu_model"
   ]
  },
  {
   "cell_type": "code",
   "execution_count": 4,
   "metadata": {},
   "outputs": [],
   "source": [
    "import warnings\n",
    "warnings.filterwarnings(\"ignore\")"
   ]
  },
  {
   "cell_type": "code",
   "execution_count": 5,
   "metadata": {},
   "outputs": [],
   "source": [
    "# Hyperparameters\n",
    "IMAGE_SIZE = 1024\n",
    "NOISE_SIZE = 100\n",
    "\n",
    "#runtime \n",
    "MODEL_EPOCH = 1712 # current rect art \n",
    "MODEL_EPOCH = 306\n",
    "LOAD_WEIGHTS_EP = 19\n",
    "\n",
    "SAMPLES_TO_SHOW = 10\n",
    "EPOCHS_TO_RUN = 50\n",
    "\n",
    "MODEL_NAME = 'models/' + 'gan-' + str(IMAGE_SIZE) + '-' + str(NOISE_SIZE) + '-model.' + str(MODEL_EPOCH) + '.' + 'h5'"
   ]
  },
  {
   "cell_type": "code",
   "execution_count": 6,
   "metadata": {
    "scrolled": false
   },
   "outputs": [
    {
     "name": "stdout",
     "output_type": "stream",
     "text": [
      "WARNING:tensorflow:From /home/carsten/anaconda3/lib/python3.7/site-packages/tensorflow/python/framework/op_def_library.py:263: colocate_with (from tensorflow.python.framework.ops) is deprecated and will be removed in a future version.\n",
      "Instructions for updating:\n",
      "Colocations handled automatically by placer.\n",
      "WARNING:tensorflow:From /home/carsten/anaconda3/lib/python3.7/site-packages/keras/backend/tensorflow_backend.py:3445: calling dropout (from tensorflow.python.ops.nn_ops) with keep_prob is deprecated and will be removed in a future version.\n",
      "Instructions for updating:\n",
      "Please use `rate` instead of `keep_prob`. Rate should be set to `rate = 1 - keep_prob`.\n"
     ]
    }
   ],
   "source": [
    "\n",
    "model = load_model(MODEL_NAME)\n",
    "#model.summary()\n",
    "model.load_weights(\"weights/gan-\" + str(IMAGE_SIZE) + \"-100-weights.\" + str(LOAD_WEIGHTS_EP) + \".h5\", by_name=True)\n",
    "generator = model.get_layer(name=\"model_2\")\n",
    "#generator = model\n"
   ]
  },
  {
   "cell_type": "code",
   "execution_count": 7,
   "metadata": {},
   "outputs": [],
   "source": [
    "def predict(input_z, epoch):\n",
    "    samples = generator.predict(input_z[:SAMPLES_TO_SHOW])\n",
    "    \n",
    "    # added for comparing the value\n",
    "    np.savetxt(noise_file_handle,input_z[:SAMPLES_TO_SHOW], delimiter=',')\n",
    "    \n",
    "    sample_images = [((sample + 1.0) * 127.5).astype(np.uint8) for sample in samples]\n",
    "    name = OUTPUT_DIR + \"samples\"\n",
    "    print(\"save images\")\n",
    "    for index in range(SAMPLES_TO_SHOW):\n",
    "        image_array = sample_images[index]\n",
    "        image = Image.fromarray(image_array)\n",
    "        image.save(name+\"_\"+str(epoch).zfill(3) + \"_\" + str(index).zfill(3) +\".png\") \n",
    "  "
   ]
  },
  {
   "cell_type": "code",
   "execution_count": null,
   "metadata": {
    "scrolled": false
   },
   "outputs": [
    {
     "name": "stdout",
     "output_type": "stream",
     "text": [
      "generating images, set 0\n",
      "save images\n",
      "generating images, set 1\n",
      "save images\n",
      "generating images, set 2\n",
      "save images\n",
      "generating images, set 3\n",
      "save images\n",
      "generating images, set 4\n",
      "save images\n",
      "generating images, set 5\n",
      "save images\n",
      "generating images, set 6\n",
      "save images\n",
      "generating images, set 7\n",
      "save images\n",
      "generating images, set 8\n",
      "save images\n",
      "generating images, set 9\n",
      "save images\n",
      "generating images, set 10\n",
      "save images\n",
      "generating images, set 11\n",
      "save images\n",
      "generating images, set 12\n",
      "save images\n",
      "generating images, set 13\n",
      "save images\n",
      "generating images, set 14\n",
      "save images\n",
      "generating images, set 15\n",
      "save images\n",
      "generating images, set 16\n",
      "save images\n",
      "generating images, set 17\n",
      "save images\n",
      "generating images, set 18\n",
      "save images\n",
      "generating images, set 19\n",
      "save images\n",
      "generating images, set 20\n",
      "save images\n",
      "generating images, set 21\n",
      "save images\n",
      "generating images, set 22\n",
      "save images\n",
      "generating images, set 23\n",
      "save images\n",
      "generating images, set 24\n",
      "save images\n",
      "generating images, set 25\n",
      "save images\n",
      "generating images, set 26\n",
      "save images\n",
      "generating images, set 27\n",
      "save images\n",
      "generating images, set 28\n",
      "save images\n",
      "generating images, set 29\n",
      "save images\n",
      "generating images, set 30\n",
      "save images\n",
      "generating images, set 31\n",
      "save images\n",
      "generating images, set 32\n",
      "save images\n",
      "generating images, set 33\n",
      "save images\n",
      "generating images, set 34\n",
      "save images\n",
      "generating images, set 35\n",
      "save images\n",
      "generating images, set 36\n",
      "save images\n",
      "generating images, set 37\n",
      "save images\n",
      "generating images, set 38\n",
      "save images\n",
      "generating images, set 39\n",
      "save images\n",
      "generating images, set 40\n",
      "save images\n",
      "generating images, set 41\n",
      "save images\n",
      "generating images, set 42\n",
      "save images\n",
      "generating images, set 43\n",
      "save images\n",
      "generating images, set 44\n",
      "save images\n",
      "generating images, set 45\n",
      "save images\n",
      "generating images, set 46\n",
      "save images\n",
      "generating images, set 47\n",
      "save images\n",
      "generating images, set 48\n",
      "save images\n"
     ]
    }
   ],
   "source": [
    "# Paths\n",
    "\n",
    "OUTPUT_DIR = './gen-' + '{date:%Y-%m-%d_%H_%M_%S}/'.format(date=datetime.datetime.now())\n",
    "if not os.path.exists(OUTPUT_DIR):\n",
    "    os.makedirs(OUTPUT_DIR)\n",
    "\n",
    "SAMPLE_NOISE_FILE = OUTPUT_DIR + \"sample_noise.csv\"\n",
    "noise_file_handle = open(SAMPLE_NOISE_FILE,'a')\n",
    "    \n",
    "for index in range(EPOCHS_TO_RUN):\n",
    "    print('generating images, set ' + str(index))\n",
    "    noise_data = np.random.normal(0, 1, size=(SAMPLES_TO_SHOW, NOISE_SIZE))\n",
    "    predict(noise_data,index)\n",
    "print(\"done\")"
   ]
  },
  {
   "cell_type": "code",
   "execution_count": null,
   "metadata": {},
   "outputs": [],
   "source": []
  }
 ],
 "metadata": {
  "kernelspec": {
   "display_name": "Python 3",
   "language": "python",
   "name": "python3"
  },
  "language_info": {
   "codemirror_mode": {
    "name": "ipython",
    "version": 3
   },
   "file_extension": ".py",
   "mimetype": "text/x-python",
   "name": "python",
   "nbconvert_exporter": "python",
   "pygments_lexer": "ipython3",
   "version": "3.7.3"
  }
 },
 "nbformat": 4,
 "nbformat_minor": 2
}
